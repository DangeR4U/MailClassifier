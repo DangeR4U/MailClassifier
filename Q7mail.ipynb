{
 "cells": [
  {
   "cell_type": "code",
   "execution_count": 1,
   "metadata": {},
   "outputs": [
    {
     "name": "stderr",
     "output_type": "stream",
     "text": [
      "C:\\Users\\saubh\\AppData\\Local\\Temp\\ipykernel_8688\\4552514.py:14: MarkupResemblesLocatorWarning: The input looks more like a filename than markup. You may want to open this file and pass the filehandle into Beautiful Soup.\n",
      "  soup = BeautifulSoup(html, \"html.parser\")\n",
      "C:\\Users\\saubh\\AppData\\Local\\Temp\\ipykernel_8688\\4552514.py:14: MarkupResemblesLocatorWarning: The input looks more like a URL than markup. You may want to use an HTTP client like requests to get the document behind the URL, and feed that document to Beautiful Soup.\n",
      "  soup = BeautifulSoup(html, \"html.parser\")\n"
     ]
    },
    {
     "name": "stdout",
     "output_type": "stream",
     "text": [
      "Training Accuracy: 0.986875\n",
      "Testing Accuracy: 0.975\n"
     ]
    }
   ],
   "source": [
    "import pandas as pd\n",
    "from sklearn.model_selection import train_test_split\n",
    "from sklearn.linear_model import LogisticRegression\n",
    "from sklearn.metrics import accuracy_score, classification_report\n",
    "from sklearn.feature_extraction.text import TfidfVectorizer\n",
    "import re as re\n",
    "from bs4 import BeautifulSoup\n",
    "\n",
    "\n",
    "# Function to remove tags\n",
    "def remove_tags(html):\n",
    "\n",
    "    # parse html content\n",
    "    soup = BeautifulSoup(html, \"html.parser\")\n",
    "\n",
    "    for data in soup(['style', 'script']):\n",
    "        # Remove tags\n",
    "        data.decompose()\n",
    "\n",
    "    # return data by retrieving the tag content\n",
    "    return ' '.join(soup.stripped_strings)\n",
    "\n",
    "def clean_special_characters(message):\n",
    "    characters_to_remove = ['-', '<', '$', '*','\\n','>']\n",
    "    for char in characters_to_remove:\n",
    "        message = message.replace(char, '')\n",
    "    return message\n",
    "\n",
    "\n",
    "\n",
    "# Load the datasets\n",
    "training_data_path = 'Email_Dataset.csv'  \n",
    "test_data_path = 'Email Test Data.csv'    \n",
    "\n",
    "emails_df = pd.read_csv(training_data_path)\n",
    "test_data_df = pd.read_csv(test_data_path)\n",
    "\n",
    "emails_df['MESSAGE']=emails_df[\"MESSAGE\"].apply(remove_tags).apply(clean_special_characters)\n",
    "test_data_df['MESSAGE']=test_data_df['MESSAGE'].apply(remove_tags).apply(clean_special_characters)\n",
    "\n",
    "\n",
    "\n",
    "# Preprocess the email content using TF-IDF vectorization\n",
    "vectorizer = TfidfVectorizer(stop_words='english', max_features=1000)\n",
    "X = vectorizer.fit_transform(emails_df['MESSAGE']).toarray()\n",
    "\n",
    "# Setup the target variable\n",
    "y = emails_df['CATEGORY'].apply(lambda x: 1 if x.lower() == 'spam' else 0)\n",
    "\n",
    "\n",
    "# Split the data into training and testing sets\n",
    "X_train, X_test, y_train, y_test = train_test_split(X, y, test_size=0.2, random_state=42)\n",
    "\n",
    "# Train the logistic regression model\n",
    "log_reg = LogisticRegression(max_iter=1000) \n",
    "log_reg.fit(X_train, y_train)\n",
    "\n",
    "# Evaluate the model\n",
    "y_train_pred = log_reg.predict(X_train)\n",
    "y_test_pred = log_reg.predict(X_test)\n",
    "\n",
    "train_accuracy = accuracy_score(y_train, y_train_pred)\n",
    "test_accuracy = accuracy_score(y_test, y_test_pred)\n",
    "\n",
    "print(f'Training Accuracy: {train_accuracy}')\n",
    "print(f'Testing Accuracy: {test_accuracy}')\n",
    "\n",
    "# Preprocess the test data\n",
    "X_test_data = vectorizer.transform(test_data_df['MESSAGE']).toarray()\n",
    "\n",
    "# Make predictions on the test data\n",
    "test_data_predictions = log_reg.predict(X_test_data)\n",
    "\n",
    "# Save the predictions\n",
    "test_data_df['spam'] = test_data_predictions\n",
    "#output_path = 'Q7predictspamornot.csv'  # Update this path as needed\n",
    "#test_data_df.to_csv(output_path, index=False)\n",
    "\n",
    "\n"
   ]
  }
 ],
 "metadata": {
  "kernelspec": {
   "display_name": "Python 3",
   "language": "python",
   "name": "python3"
  },
  "language_info": {
   "codemirror_mode": {
    "name": "ipython",
    "version": 3
   },
   "file_extension": ".py",
   "mimetype": "text/x-python",
   "name": "python",
   "nbconvert_exporter": "python",
   "pygments_lexer": "ipython3",
   "version": "3.12.2"
  }
 },
 "nbformat": 4,
 "nbformat_minor": 2
}
